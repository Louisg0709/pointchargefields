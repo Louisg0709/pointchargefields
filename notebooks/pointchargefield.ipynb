{
 "cells": [
  {
   "cell_type": "code",
   "execution_count": null,
   "id": "86b0fb17-da5d-4750-ad44-1c105ebb4a36",
   "metadata": {},
   "outputs": [],
   "source": []
  },
  {
   "cell_type": "code",
   "execution_count": 66,
   "id": "d4d8424c-91d4-4750-ae2b-f84dc69502f8",
   "metadata": {},
   "outputs": [],
   "source": [
    "import numpy as np\n",
    "from numpy import *\n",
    "import scipy.io\n",
    "import struct\n",
    "\n",
    "import csv\n",
    "import numpy\n",
    "import ipyvolume as ipv\n",
    "from scipy import interpolate\n",
    "#from scipy import special\n",
    "#import matplotlib\n",
    "#import matplotlib.pyplot as plt\n",
    "#from mpl_toolkits.mplot3d import Axes3D\n",
    "#from matplotlib import cm\n",
    "#from matplotlib.ticker import LinearLocator, FormatStrFormatter\n"
   ]
  },
  {
   "cell_type": "code",
   "execution_count": null,
   "id": "75c8eec6-5587-4c3d-b10e-b0810b0c5804",
   "metadata": {},
   "outputs": [],
   "source": []
  },
  {
   "cell_type": "code",
   "execution_count": 67,
   "id": "bb223ae9-907a-446c-9e00-f679b0351856",
   "metadata": {},
   "outputs": [],
   "source": [
    "#set model parameters\n",
    "\n",
    "def setmodelparams():\n",
    "    pardict={}\n",
    "    pardict[\"nx\"]=20\n",
    "    pardict[\"ny\"]=20\n",
    "\n",
    "    pardict[\"xmax\"]=1.0\n",
    "    pardict[\"xmin\"]=-1.0\n",
    "    pardict[\"ymax\"]=1.0\n",
    "    pardict[\"ymin\"]=-1.0\n",
    "    pardict[\"dt\"]=0.1\n",
    "\n",
    "    pardict[\"delx\"]=(pardict[\"xmax\"]-pardict[\"xmin\"])/pardict[\"nx\"]\n",
    "    pardict[\"dely\"]=(pardict[\"ymax\"]-pardict[\"ymin\"])/pardict[\"ny\"]\n",
    "    pardict[\"nc\"]=1 #number of charges\n",
    "    return pardict"
   ]
  },
  {
   "cell_type": "code",
   "execution_count": 68,
   "id": "e0e2f209-533e-4a11-9b73-2970add15f30",
   "metadata": {},
   "outputs": [],
   "source": [
    "#set model constants\n",
    "ep0=8.854188e-12\n",
    "c=3.0e8"
   ]
  },
  {
   "cell_type": "code",
   "execution_count": 69,
   "id": "10805b10-d096-45ab-b290-64c91032fbf8",
   "metadata": {},
   "outputs": [],
   "source": [
    "#modelparams\n",
    "\n",
    "pars=setmodelparams()\n",
    "nx=pars[\"nx\"]\n",
    "ny=pars[\"ny\"]\n",
    "\n",
    "xmax=pars[\"xmax\"]\n",
    "xmin=pars[\"xmin\"]\n",
    "ymax=pars[\"ymax\"]\n",
    "ymin=pars[\"ymin\"]\n",
    "\n",
    "delx=pars[\"delx\"]\n",
    "dely=pars[\"dely\"]\n",
    "\n",
    "nc=pars[\"nc\"]\n",
    "\n",
    "delt=pars[\"dt\"]   #0.1"
   ]
  },
  {
   "cell_type": "code",
   "execution_count": 70,
   "id": "a2258311-968e-460a-8c60-f9181d9f2055",
   "metadata": {},
   "outputs": [],
   "source": [
    "#charge positions\n",
    "xp=np.zeros(nc)\n",
    "yp=np.zeros(nc)\n",
    "vxp=np.zeros(nc)\n",
    "vyp=np.zeros(nc)\n",
    "vmag=np.zeros(nc)\n",
    "omeg=np.zeros(nc)\n",
    "qp=np.zeros(nc)\n",
    "\n",
    "#create fields\n",
    "potential = np.zeros( (nx,ny) ); #scalar potential\n",
    "ex = np.zeros( (nx,ny) ); # electric field x\n",
    "ey = np.zeros(  (nx,ny)  ); #electric field y "
   ]
  },
  {
   "cell_type": "code",
   "execution_count": 71,
   "id": "cea47b7e-5984-494c-b9de-5820f531ae6a",
   "metadata": {},
   "outputs": [],
   "source": [
    "#set the charge positions\n",
    "xp[0]=delx/2   #at cell centre not the grid cell\n",
    "yp[0]=dely/2\n",
    "\n",
    "vmag[0]=0.2  #this is in units of c\n",
    "vyp[0]=np.sin(np.pi/4)\n",
    "vxp[0]=np.cos(np.pi/4)\n",
    "\n",
    "omeg[0]=0.5\n",
    "qp[0]=1.0  #this is the charge divided by 4pi epsilon0\n",
    "\n"
   ]
  },
  {
   "cell_type": "code",
   "execution_count": 72,
   "id": "85dfac79-5ade-4ed7-a3d7-16d73b011870",
   "metadata": {},
   "outputs": [],
   "source": [
    "cdat={}\n",
    "cdat[\"xp\"]=xp\n",
    "cdat[\"yp\"]=yp\n",
    "cdat[\"vmag\"]=vmag\n",
    "cdat[\"vxp\"]=vxp\n",
    "cdat[\"vyp\"]=vyp\n",
    "cdat[\"omeg\"]=omeg\n",
    "cdat[\"q\"]=qp"
   ]
  },
  {
   "cell_type": "code",
   "execution_count": 73,
   "id": "dacd2c7a-3121-4235-a622-99dd169499aa",
   "metadata": {
    "scrolled": true
   },
   "outputs": [],
   "source": [
    "t=0.3 #current time\n",
    "for i in range(0,nx-1):\n",
    "    for j in range(0,ny-1):\n",
    "        #intiailise potential and field because these are computed for each charge\n",
    "        fpot=0.0\n",
    "        ext=0\n",
    "        eyt=0\n",
    "        for ic in range(0,nc):\n",
    "            #compute field position\n",
    "            x=xmin+delx*i\n",
    "            y=ymin+dely*j\n",
    "            #calculate change in charge position\n",
    "            dx=delt*vxp[ic]*np.sin(omeg[ic]*t)\n",
    "            dy=delt*vyp[ic]*np.sin(omeg[ic]*t)\n",
    "            xp[ic]=xp[ic]+dx\n",
    "            yp[ic]=yp[ic]+dy\n",
    "            r12x=x-xp[ic]\n",
    "            r12y=y-yp[ic]\n",
    "            r12mag=np.sqrt(r12x*r12x+r12y*r12y)\n",
    "            # compute component of velocity along field direction i.e. we use the vector dot product\n",
    "            vrdash=vmag[ic]*(r12x*vxp[ic]+r12y*vyp[ic])/r12mag\n",
    "            # compute potential\n",
    "            fpot=fpot+((qp[ic]/r12mag)*(1/(1-vrdash)))\n",
    "        potential[i][j]=fpot\n",
    "\n",
    "#compute the fields\n",
    "for i in range(0,nx-1):\n",
    "    for j in range(0,ny-1):        \n",
    "        #compute gradient (and field using central difference) if boundary assume 0 (charges always in middle of our large grid)\n",
    "        #\n",
    "        if i == 0:\n",
    "            ex[i][j]=(potential[i+1][j])/delx\n",
    "        elif i==nx-1:\n",
    "            ex[i][j]=(-potential[i-1][j])/delx\n",
    "        else:\n",
    "            ex[i][j]=(potential[i+1][j]-potential[i-1][j])/delx\n",
    "            \n",
    "        if j == 0:\n",
    "            ey[i][j]=(potential[i][j+1])/dely \n",
    "        elif j  == ny-1:   \n",
    "            ey[i][j]=(-potential[i][j-1])/dely\n",
    "        else:\n",
    "            ey[i][j]=(potential[i][j+1]-potential[i][j-1])/dely\n",
    "            \n",
    "\n",
    "            \n",
    "            "
   ]
  },
  {
   "cell_type": "code",
   "execution_count": 75,
   "id": "415fd81d-fd22-4a25-ae77-b165489525d2",
   "metadata": {},
   "outputs": [
    {
     "name": "stdout",
     "output_type": "stream",
     "text": [
      "[[0.55560443 0.57648465 0.59766237 0.61886549 0.63974868 0.65989331\n",
      "  0.67881616 0.69598945 0.71087327 0.72295866 0.73181609 0.73714103\n",
      "  0.73878725 0.73678068 0.73131089 0.7227032  0.71137823 0.69780765\n",
      "  0.68247354 0.        ]\n",
      " [0.48610552 0.50281891 0.51990521 0.53722924 0.55461532 0.57184369\n",
      "  0.58864949 0.60472573 0.61973141 0.6333058  0.64508883 0.65474602\n",
      "  0.66199549 0.66663266 0.66854875 0.66773957 0.66430301 0.65842634\n",
      "  0.65036584 0.        ]\n",
      " [0.43163762 0.44523801 0.45919302 0.47343242 0.48786341 0.5023677\n",
      "  0.51679923 0.53098323 0.54471704 0.55777365 0.56990816 0.5808677\n",
      "  0.59040432 0.59829007 0.60433264 0.6083896  0.61037918 0.61028591\n",
      "  0.6081603  0.        ]\n",
      " [0.38790803 0.39915167 0.41070596 0.42253295 0.43458173 0.44678651\n",
      "  0.4590648  0.47131598 0.48342049 0.49524003 0.50661901 0.51738767\n",
      "  0.52736701 0.53637559 0.54423788 0.55079361 0.55590729 0.55947676\n",
      "  0.56143973 0.        ]\n",
      " [0.35208211 0.36151191 0.37120584 0.38114272 0.39129368 0.40162093\n",
      "  0.41207653 0.42260125 0.43312363 0.44355936 0.45381123 0.46376975\n",
      "  0.47331463 0.48231741 0.49064501 0.49816447 0.50474848 0.51028132\n",
      "  0.5146649  0.        ]\n",
      " [0.32222568 0.33023608 0.33846883 0.34691182 0.3555482  0.36435565\n",
      "  0.37330552 0.38236206 0.39148168 0.40061227 0.40969281 0.4186532\n",
      "  0.4274145  0.43588972 0.44398511 0.45160223 0.45864057 0.46500084\n",
      "  0.47058869 0.        ]\n",
      " [0.29697954 0.30386166 0.31093073 0.31817971 0.32559856 0.33317375\n",
      "  0.34088775 0.34871843 0.35663862 0.36461551 0.37261027 0.38057771\n",
      "  0.38846612 0.39621738 0.40376729 0.41104634 0.41798084 0.42449444\n",
      "  0.43051009 0.        ]\n",
      " [0.27536337 0.28133564 0.28746555 0.29374897 0.30017983 0.30674978\n",
      "  0.31344783 0.32026001 0.327169   0.33415375 0.34118911 0.34824558\n",
      "  0.355289   0.36228049 0.3691764  0.37592852 0.38248449 0.38878841\n",
      "  0.39478182 0.        ]\n",
      " [0.25665374 0.26188268 0.26724518 0.27273883 0.27835994 0.28410326\n",
      "  0.28996179 0.29592655 0.30198627 0.30812719 0.31433275 0.32058336\n",
      "  0.32685621 0.33312505 0.33936009 0.34552801 0.35159199 0.35751198\n",
      "  0.36324508 0.        ]\n",
      " [0.2403059  0.24492036 0.24964861 0.2544893  0.25944016 0.26449788\n",
      "  0.26965794 0.27491444 0.28025996 0.28568534 0.29117947 0.29672917\n",
      "  0.30231897 0.30793094 0.31354458 0.31913675 0.32468157 0.33015053\n",
      "  0.33551257 0.        ]\n",
      " [0.22590223 0.23000329 0.2342019  0.23849731 0.24288817 0.24737236\n",
      "  0.25194694 0.256608   0.26135057 0.26616844 0.27105409 0.27599848\n",
      "  0.28099097 0.28601917 0.29106881 0.29612368 0.3011655  0.30617394\n",
      "  0.31112659 0.        ]\n",
      " [0.21311748 0.21678546 0.22053756 0.22437342 0.22829223 0.23229266\n",
      "  0.23637279 0.24052999 0.24476089 0.24906125 0.25342587 0.25784849\n",
      "  0.26232169 0.26683679 0.27138375 0.27595109 0.28052579 0.28509327\n",
      "  0.28963733 0.        ]\n",
      " [0.2016947  0.20499417 0.20836659 0.21181185 0.21532949 0.21891868\n",
      "  0.22257816 0.22630616 0.23010038 0.23395788 0.23787503 0.24184743\n",
      "  0.24586986 0.24993614 0.25403914 0.25817063 0.26232126 0.26648049\n",
      "  0.27063653 0.        ]\n",
      " [0.19142831 0.19441172 0.19745875 0.20056943 0.20374352 0.20698054\n",
      "  0.21027966 0.21363968 0.21705902 0.22053562 0.22406694 0.22764984\n",
      "  0.23128059 0.23495477 0.23866724 0.24241205 0.2461824  0.24997061\n",
      "  0.25376804 0.        ]\n",
      " [0.18215195 0.18486232 0.18762847 0.1904505  0.19332834 0.19626169\n",
      "  0.19925005 0.20229259 0.20538823 0.20853553 0.21173266 0.21497738\n",
      "  0.21826701 0.22159834 0.22496762 0.22837051 0.23180203 0.23525652\n",
      "  0.2387276  0.        ]\n",
      " [0.17372957 0.1762025  0.17872458 0.18129596 0.18391665 0.18658651\n",
      "  0.18930521 0.19207222 0.19488678 0.19774787 0.20065419 0.20360413\n",
      "  0.20659572 0.20962662 0.21269408 0.21579489 0.21892537 0.22208132\n",
      "  0.22525797 0.        ]\n",
      " [0.16604885 0.16831407 0.17062278 0.17297518 0.17537134 0.17781119\n",
      "  0.18029455 0.18282108 0.18539024 0.18800133 0.19065339 0.19334528\n",
      "  0.19607553 0.19884243 0.20164394 0.20447767 0.20734087 0.21023038\n",
      "  0.21314264 0.        ]\n",
      " [0.1590163  0.16109877 0.16321993 0.16537995 0.16757894 0.16981692\n",
      "  0.17209377 0.1744093  0.17676312 0.17915475 0.1815835  0.18404853\n",
      "  0.18654876 0.18908292 0.19164948 0.19424666 0.19687238 0.19952426\n",
      "  0.2021996  0.        ]\n",
      " [0.15255343 0.15447432 0.15642974 0.15841988 0.16044486 0.16250474\n",
      "  0.16459947 0.16672893 0.16889288 0.17109097 0.1733227  0.17558746\n",
      "  0.17788445 0.18021271 0.18257112 0.1849583  0.18737269 0.18981248\n",
      "  0.19227561 0.        ]\n",
      " [0.         0.         0.         0.         0.         0.\n",
      "  0.         0.         0.         0.         0.         0.\n",
      "  0.         0.         0.         0.         0.         0.\n",
      "  0.         0.        ]]\n"
     ]
    }
   ],
   "source": [
    "print(potential)\n",
    "#print(ex)"
   ]
  },
  {
   "cell_type": "code",
   "execution_count": 59,
   "id": "ee7eac0c-c657-4837-b087-7639db943089",
   "metadata": {},
   "outputs": [],
   "source": [
    "#function to update the electric field and the potential\n",
    "def updatefields(t,pars,cdat,opotential,oex,oey):\n",
    "    #extract modelpars from  modelpars\n",
    "    nx=pars[\"nx\"]\n",
    "    ny=pars[\"ny\"]\n",
    "    \n",
    "    xmax=pars[\"xmax\"]\n",
    "    xmin=pars[\"xmin\"]\n",
    "    ymax=pars[\"ymax\"]\n",
    "    ymin=pars[\"ymin\"]\n",
    "    \n",
    "    delx=pars[\"delx\"]\n",
    "    dely=pars[\"dely\"]\n",
    "    \n",
    "    delt=pars[\"dt\"]   #0.1\n",
    "\n",
    "    #extract chargedat from chargedat\n",
    "    xp=cdat[\"xp\"]\n",
    "    yp=cdat[\"yp\"]\n",
    "    vmag=cdat[\"vmag\"]\n",
    "    vxp=cdat[\"vxp\"]\n",
    "    vyp=cdat[\"vyp\"]\n",
    "    omeg=cdat[\"omeg\"]\n",
    "    qp=cdat[\"q\"]\n",
    "\n",
    "    \n",
    "    for i in range(0,nx-1):\n",
    "        for j in range(0,ny-1):\n",
    "            #intiailise potential and field because these are computed for each charge\n",
    "            fpot=0.0\n",
    "            #ex=0\n",
    "            #ey=0\n",
    "            for ic in range(0,nc):\n",
    "                #compute field position\n",
    "                x=xmin+delx*i\n",
    "                y=ymin+dely*j\n",
    "                #calculate change in charge position\n",
    "                dx=delt*vxp[ic]*np.sin(omeg[ic]*t)\n",
    "                dy=delt*vyp[ic]*np.sin(omeg[ic]*t)\n",
    "                xp[ic]=xp[ic]+dx\n",
    "                yp[ic]=yp[ic]+dy\n",
    "                r12x=x-xp[ic]\n",
    "                r12y=y-yp[ic]\n",
    "                r12mag=np.sqrt(r12x*r12x+r12y*r12y)\n",
    "                # compute component of velocity along field direction i.e. we use the vector dot product\n",
    "                vrdash=vmag[ic]*(r12x*vxp[ic]+r12y*vyp[ic])/r12mag\n",
    "                # compute potential\n",
    "                fpot=fpot+((qp[ic]/r12mag)*(1/(1-vrdash)))\n",
    "            potential[i][j]=fpot\n",
    "    \n",
    "    #compute the fields\n",
    "    for i in range(0,nx-1):\n",
    "        for j in range(0,ny-1):        \n",
    "            #compute gradient (and field using central difference) if boundary assume 0 (charges always in middle of our large grid)\n",
    "            #\n",
    "            if i == 0:\n",
    "                ex[i][j]=(potential[i+1][j])/delx\n",
    "            elif i==nx-1:\n",
    "                ex[i][j]=(-potential[i-1][j])/delx\n",
    "            else:\n",
    "                ex[i][j]=(potential[i+1][j]-potential[i-1][j])/delx\n",
    "                \n",
    "            if j == 0:\n",
    "                ey[i][j]=(potential[i][j+1])/dely \n",
    "            elif j  == ny-1:   \n",
    "                ey[i][j]=(-potential[i][j-1])/dely\n",
    "            else:\n",
    "                ey[i][j]=(potential[i][j+1]-potential[i][j-1])/dely\n",
    "\n",
    "\n",
    "    return potential,ex,ey"
   ]
  },
  {
   "cell_type": "code",
   "execution_count": 60,
   "id": "1a426559-697f-4c56-ac6c-d556a28bbe75",
   "metadata": {},
   "outputs": [],
   "source": [
    "t=0.1\n",
    "pars=setmodelparams()\n",
    "\n",
    "cdat[\"xp\"]=xp\n",
    "cdat[\"yp\"]=yp\n",
    "cdat[\"vmag\"]=vmag\n",
    "cdat[\"vxp\"]=vxp\n",
    "cdat[\"vyp\"]=vyp\n",
    "cdat[\"omeg\"]=omeg\n",
    "cdat[\"q\"]=qp\n",
    "\n",
    "potential,ex,ey=updatefields(t,pars,cdat,potential,ex,ey)"
   ]
  },
  {
   "cell_type": "code",
   "execution_count": 89,
   "id": "a4300232-7a71-4ca2-b420-892f398e330d",
   "metadata": {},
   "outputs": [
    {
     "name": "stdout",
     "output_type": "stream",
     "text": [
      "[[ 5.76484648e+00  4.20579428e-01  4.23808431e-01  4.20863041e-01\n",
      "   4.10278148e-01  3.90674826e-01  3.60961431e-01  3.20571074e-01\n",
      "   2.69692069e-01  2.09428257e-01  1.41823738e-01  6.97116197e-02\n",
      "  -3.60351631e-03 -7.47636476e-02 -1.40774801e-01 -1.99326587e-01\n",
      "  -2.48955500e-01 -2.89046913e-01 -6.97807648e+00  0.00000000e+00]\n",
      " [ 5.02818915e+00  3.37996919e-01  3.44103231e-01  3.47101071e-01\n",
      "   3.46144482e-01  3.40341739e-01  3.28820435e-01  3.10819134e-01\n",
      "   2.85800747e-01  2.53574224e-01  2.14402198e-01  1.69066607e-01\n",
      "   1.18866311e-01  6.55326646e-02  1.10691259e-02 -4.24574965e-02\n",
      "  -9.31323257e-02 -1.39371615e-01 -6.58426335e+00  0.00000000e+00]\n",
      " [ 4.45238014e+00  2.75554016e-01  2.81944058e-01  2.86703924e-01\n",
      "   2.89352813e-01  2.89358214e-01  2.86155259e-01  2.79178077e-01\n",
      "   2.67904235e-01  2.51911201e-01  2.30940520e-01  2.04961597e-01\n",
      "   1.74223672e-01  1.39283129e-01  1.00995280e-01  6.04654855e-02\n",
      "   1.89631592e-02 -2.21888780e-02 -6.10285913e+00  0.00000000e+00]\n",
      " [ 3.99151675e+00  2.27979330e-01  2.33812745e-01  2.38757659e-01\n",
      "   2.42535608e-01  2.44830689e-01  2.45294652e-01  2.43556908e-01\n",
      "   2.39240570e-01  2.31985240e-01  2.21476399e-01  2.07479996e-01\n",
      "   1.89879197e-01  1.68708627e-01  1.44180158e-01  1.16694181e-01\n",
      "   8.68315613e-02  5.53243534e-02 -5.59476764e+00  0.00000000e+00]\n",
      " [ 3.61511912e+00  1.91237292e-01  1.96308089e-01  2.00878385e-01\n",
      "   2.04782073e-01  2.07828478e-01  2.09803205e-01  2.10470975e-01\n",
      "   2.09581083e-01  2.06876047e-01  2.02103880e-01  1.95034043e-01\n",
      "   1.85476651e-01  1.73303732e-01  1.58470607e-01  1.41034674e-01\n",
      "   1.21168496e-01  9.91642000e-02 -5.10281321e+00  0.00000000e+00]\n",
      " [ 3.30236079e+00  1.62431488e-01  1.66757366e-01  1.70793751e-01\n",
      "   1.74438370e-01  1.77573190e-01  1.80064122e-01  1.81761558e-01\n",
      "   1.82502030e-01  1.82111312e-01  1.80409312e-01  1.77216959e-01\n",
      "   1.72365221e-01  1.65706098e-01  1.57125127e-01  1.46554583e-01\n",
      "   1.33986099e-01  1.19481195e-01 -4.65000844e+00  0.00000000e+00]\n",
      " [ 3.03861659e+00  1.39511919e-01  1.43180486e-01  1.46678311e-01\n",
      "   1.49940463e-01  1.52891860e-01  1.55446786e-01  1.57508738e-01\n",
      "   1.58970775e-01  1.59716516e-01  1.59621992e-01  1.58558506e-01\n",
      "   1.56396662e-01  1.53011638e-01  1.48289672e-01  1.42135588e-01\n",
      "   1.34480976e-01  1.25292464e-01 -4.24494441e+00  0.00000000e+00]\n",
      " [ 2.81335643e+00  1.21021785e-01  1.24133281e-01  1.27142855e-01\n",
      "   1.30008087e-01  1.32679936e-01  1.35102301e-01  1.37211731e-01\n",
      "   1.38937352e-01  1.40201089e-01  1.40918303e-01  1.40998917e-01\n",
      "   1.40349159e-01  1.38873995e-01  1.36480315e-01  1.33080873e-01\n",
      "   1.28598912e-01  1.22973311e-01 -3.88788414e+00  0.00000000e+00]\n",
      " [ 2.61882683e+00  1.05914329e-01  1.08561502e-01  1.11147625e-01\n",
      "   1.13644252e-01  1.16018541e-01  1.18232916e-01  1.20244792e-01\n",
      "   1.22006397e-01  1.23464734e-01  1.24561737e-01  1.25234675e-01\n",
      "   1.25416871e-01  1.25038791e-01  1.24029556e-01  1.22318926e-01\n",
      "   1.19839759e-01  1.16530920e-01 -3.57511982e+00  0.00000000e+00]\n",
      " [ 2.44920355e+00  9.34270827e-02  9.56894557e-02  9.79155402e-02\n",
      "   1.00085803e-01  1.02177737e-01  1.04165618e-01  1.06020277e-01\n",
      "   1.07708926e-01  1.09195048e-01  1.10438375e-01  1.11395003e-01\n",
      "   1.12017653e-01  1.12256141e-01  1.12058080e-01  1.11369842e-01\n",
      "   1.10137832e-01  1.08310052e-01 -3.30150529e+00  0.00000000e+00]\n",
      " [ 2.30003290e+00  8.29966513e-02  8.49402116e-02  8.68627154e-02\n",
      "   8.87504587e-02  9.05876902e-02  9.23564331e-02  9.40363171e-02\n",
      "   9.56044301e-02  9.70352020e-02  9.83003341e-02  9.93687924e-02\n",
      "   1.00206884e-01  1.00778438e-01  1.01045116e-01  1.00966874e-01\n",
      "   1.00502597e-01  9.96109252e-02 -3.06173936e+00  0.00000000e+00]\n",
      " [ 2.16785462e+00  7.42008368e-02  7.58795635e-02  7.75467037e-02\n",
      "   7.91924541e-02  8.08055768e-02  8.23732710e-02  8.38810487e-02\n",
      "   8.53126197e-02  8.66497899e-02  8.78723847e-02  8.89582028e-02\n",
      "   8.98830154e-02  9.06206207e-02  9.11429692e-02  9.14203744e-02\n",
      "   9.14218238e-02  9.11154046e-02 -2.85093273e+00  0.00000000e+00]\n",
      " [ 2.04994170e+00  6.67189702e-02  6.81767906e-02  6.96289441e-02\n",
      "   7.10682930e-02  7.24866776e-02  7.38748233e-02  7.52222502e-02\n",
      "   7.65171847e-02  7.77464792e-02  7.88955422e-02  7.99482861e-02\n",
      "   8.08870976e-02  8.16928384e-02  8.23448859e-02  8.28212208e-02\n",
      "   8.30985732e-02  8.31526366e-02 -2.66480489e+00  0.00000000e+00]\n",
      " [ 1.94411722e+00  6.03043978e-02  6.15770460e-02  6.28477245e-02\n",
      "   6.41111529e-02  6.53613106e-02  6.65913705e-02  6.77936318e-02\n",
      "   6.89594545e-02  7.00791963e-02  7.11421557e-02  7.21365231e-02\n",
      "   7.30493449e-02  7.38665040e-02  7.45727221e-02  7.51515890e-02\n",
      "   7.55856263e-02  7.58563897e-02 -2.49970609e+00  0.00000000e+00]\n",
      " [ 1.84862322e+00  5.47651463e-02  5.58817573e-02  5.69986880e-02\n",
      "   5.81119741e-02  5.92171082e-02  6.03089906e-02  6.13818804e-02\n",
      "   6.24293461e-02  6.34442177e-02  6.44185409e-02  6.53435365e-02\n",
      "   6.62095654e-02  6.70061043e-02  6.77217320e-02  6.83441325e-02\n",
      "   6.88601170e-02  6.92556698e-02 -2.35256524e+00  0.00000000e+00]\n",
      " [ 1.76202504e+00  4.99501525e-02  5.09345713e-02  5.19206983e-02\n",
      "   5.29055176e-02  5.38856088e-02  5.48571111e-02  5.58156872e-02\n",
      "   5.67564861e-02  5.76741064e-02  5.85625608e-02  5.94152430e-02\n",
      "   6.02248979e-02  6.09835967e-02  6.16827195e-02  6.23129468e-02\n",
      "   6.28642615e-02  6.33259666e-02 -2.22081316e+00  0.00000000e+00]\n",
      " [ 1.68314067e+00  4.57393293e-02  4.66111610e-02  4.74855099e-02\n",
      "   4.83600531e-02  4.92321631e-02  5.00988808e-02  5.09568885e-02\n",
      "   5.18024822e-02  5.26315433e-02  5.34395113e-02  5.42213576e-02\n",
      "   5.49715602e-02  5.56840827e-02  5.63523558e-02  5.69692651e-02\n",
      "   5.75271451e-02  5.80177819e-02 -2.10230382e+00  0.00000000e+00]\n",
      " [ 1.61098773e+00  4.20363073e-02  4.28117521e-02  4.35901493e-02\n",
      "   4.43696896e-02  4.51483314e-02  4.59237807e-02  4.66934708e-02\n",
      "   4.74545409e-02  4.82038153e-02  4.89377814e-02  4.96525693e-02\n",
      "   5.03439318e-02  5.10072261e-02  5.16373976e-02  5.22289668e-02\n",
      "   5.27760202e-02  5.32722066e-02 -1.99524262e+00  0.00000000e+00]\n",
      " [ 1.54474317e+00  3.87630697e-02  3.94555838e-02  4.01512450e-02\n",
      "   4.08486293e-02  4.15461337e-02  4.22419611e-02  4.29341046e-02\n",
      "   4.36203314e-02  4.42981667e-02  4.49648768e-02  4.56174531e-02\n",
      "   4.62525958e-02  4.68666992e-02  4.74558375e-02  4.80157533e-02\n",
      "   4.85418471e-02  4.90291716e-02 -1.89812483e+00  0.00000000e+00]\n",
      " [ 0.00000000e+00  0.00000000e+00  0.00000000e+00  0.00000000e+00\n",
      "   0.00000000e+00  0.00000000e+00  0.00000000e+00  0.00000000e+00\n",
      "   0.00000000e+00  0.00000000e+00  0.00000000e+00  0.00000000e+00\n",
      "   0.00000000e+00  0.00000000e+00  0.00000000e+00  0.00000000e+00\n",
      "   0.00000000e+00  0.00000000e+00  0.00000000e+00  0.00000000e+00]]\n"
     ]
    }
   ],
   "source": [
    "print(ey)"
   ]
  },
  {
   "cell_type": "code",
   "execution_count": 91,
   "id": "4130678b-3473-49d3-9795-9e087dedbd79",
   "metadata": {},
   "outputs": [
    {
     "name": "stdout",
     "output_type": "stream",
     "text": [
      "-1.0 1.0 0.1 (21,) (20, 20)\n"
     ]
    },
    {
     "data": {
      "text/plain": [
       "<matplotlib.collections.QuadMesh at 0x22d677fe9d0>"
      ]
     },
     "execution_count": 91,
     "metadata": {},
     "output_type": "execute_result"
    },
    {
     "data": {
      "image/png": "[encoded data removed]",
      "text/plain": [
       "<Figure size 640x480 with 1 Axes>"
      ]
     },
     "metadata": {},
     "output_type": "display_data"
    }
   ],
   "source": [
    "fig, ax = plt.subplots()\n",
    "Z=potential\n",
    "x=np.arange(start=xmin, stop=xmax+delx, step=delx)\n",
    "y=np.arange(start=ymin, stop=ymax+dely, step=dely)\n",
    "\n",
    "print(xmin,xmax,delx,np.shape(x),np.shape(Z))\n",
    "ax.pcolormesh(x, y, Z, shading='flat', vmin=Z.min(), vmax=Z.max())"
   ]
  },
  {
   "cell_type": "code",
   "execution_count": 92,
   "id": "98d9dab7-f2d8-4957-9894-16d097b63f6f",
   "metadata": {},
   "outputs": [
    {
     "name": "stdout",
     "output_type": "stream",
     "text": [
      "[0 1 2 3 4 5] [0 1 2 3] (6,) (4,) (3, 5)\n"
     ]
    },
    {
     "data": {
      "text/plain": [
       "<matplotlib.collections.QuadMesh at 0x22d665b74d0>"
      ]
     },
     "execution_count": 92,
     "metadata": {},
     "output_type": "execute_result"
    },
    {
     "data": {
      "image/png": "[encoded data removed]",
      "text/plain": [
       "<Figure size 640x480 with 1 Axes>"
      ]
     },
     "metadata": {},
     "output_type": "display_data"
    }
   ],
   "source": [
    "nrows = 3\n",
    "ncols = 5\n",
    "#print(np.shape())\n",
    "Z = np.arange(nrows * ncols).reshape(nrows, ncols)\n",
    "x = np.arange(ncols + 1)\n",
    "y = np.arange(nrows + 1)\n",
    "\n",
    "print(x,y,np.shape(x),np.shape(y),np.shape(Z))\n",
    "\n",
    "fig, ax = plt.subplots()\n",
    "ax.pcolormesh(x, y, Z, shading='flat', vmin=Z.min(), vmax=Z.max())"
   ]
  },
  {
   "cell_type": "code",
   "execution_count": 22,
   "id": "11032d2c-7214-4528-8c0e-9480260d934f",
   "metadata": {},
   "outputs": [
    {
     "data": {
      "image/png": "[encoded data removed]",
      "text/plain": [
       "<Figure size 640x480 with 1 Axes>"
      ]
     },
     "metadata": {},
     "output_type": "display_data"
    }
   ],
   "source": [
    "#use matplotlib quiver plot\n",
    "import matplotlib.pyplot as plt\n",
    "import numpy as np\n",
    "\n",
    "X = np.arange(-10, 10, 1)\n",
    "Y = np.arange(-10, 10, 1)\n",
    "U, V = np.meshgrid(X, Y)\n",
    "\n",
    "fig, ax = plt.subplots()\n",
    "q = ax.quiver(X, Y, U, V)\n",
    "ax.quiverkey(q, X=0.3, Y=1.1, U=10,\n",
    "             label='Quiver key, length = 10', labelpos='E')\n",
    "\n",
    "plt.show()"
   ]
  },
  {
   "cell_type": "code",
   "execution_count": 2,
   "id": "4c11d615-4db6-49f4-96e3-c1fb68fdbbd9",
   "metadata": {},
   "outputs": [],
   "source": [
    "import numpy as np\n",
    "import ipyvolume as ipv\n",
    "\n",
    "# Spatial grid\n",
    "u = np.linspace(-1, 1, 32)\n",
    "x, y = np.meshgrid(u, u)\n",
    "x = x.flatten()\n",
    "y = y.flatten()\n"
   ]
  },
  {
   "cell_type": "code",
   "execution_count": 3,
   "id": "d9543e5e-9650-4536-9dbc-b449e282eb3b",
   "metadata": {},
   "outputs": [],
   "source": [
    "# Time evolution\n",
    "timesteps = 20\n",
    "r = np.sqrt(x**2 + y**2)\n",
    "\n",
    "ex_sequence = np.array([np.cos(r + t) for t in np.linspace(0, 2*np.pi, timesteps)])\n",
    "ey_sequence = np.array([np.sin(r + t) for t in np.linspace(0, 2*np.pi, timesteps)])"
   ]
  },
  {
   "cell_type": "code",
   "execution_count": 6,
   "id": "71761179-a1b7-4364-9b56-b1d0aae7ed15",
   "metadata": {},
   "outputs": [],
   "source": [
    "def exeyupdate(t, x, y):\n",
    "    r = np.sqrt(x**2 + y**2)\n",
    "    ex = np.cos(r + t)\n",
    "    ey = np.sin(r + t)\n",
    "    return ex, ey\n"
   ]
  },
  {
   "cell_type": "code",
   "execution_count": 7,
   "id": "3095c8f1-04b7-41a9-97e9-8f29813f6219",
   "metadata": {},
   "outputs": [],
   "source": [
    "timesteps = 20\n",
    "xgrid, ygrid = np.meshgrid(np.linspace(-1, 1, 32), np.linspace(-1, 1, 32))\n",
    "x = xgrid.flatten()\n",
    "y = ygrid.flatten()\n",
    "\n",
    "ex_sequence = []\n",
    "ey_sequence = []\n",
    "\n",
    "for t in np.linspace(0, 2*np.pi, timesteps):\n",
    "    ex, ey = exeyupdate(t, x, y)\n",
    "    ex_sequence.append(ex)\n",
    "    ey_sequence.append(ey)\n",
    "\n",
    "ex_sequence = np.array(ex_sequence)\n",
    "ey_sequence = np.array(ey_sequence)\n"
   ]
  },
  {
   "cell_type": "code",
   "execution_count": 8,
   "id": "727b92f5-41b2-4ba6-aeca-4cbdf48d16a8",
   "metadata": {},
   "outputs": [
    {
     "data": {
      "application/vnd.jupyter.widget-view+json": {
       "model_id": "86a7ced917284bcfb11d1c233402608e",
       "version_major": 2,
       "version_minor": 0
      },
      "text/plain": [
       "Container(children=[HBox(children=(Play(value=0, interval=200, max=19), IntSlider(value=0, max=19)))], figure=…"
      ]
     },
     "metadata": {},
     "output_type": "display_data"
    }
   ],
   "source": [
    "ipv.figure()\n",
    "q = ipv.quiver(x, y, np.zeros_like(x),  # positions\n",
    "               ex_sequence, ey_sequence, np.zeros_like(ex_sequence),  # vectors\n",
    "               size=5, color='blue')\n",
    "\n",
    "ipv.animation_control(q, interval=200)\n",
    "ipv.show()"
   ]
  },
  {
   "cell_type": "code",
   "execution_count": null,
   "id": "122d87e2-fce8-474b-a435-56d88193166f",
   "metadata": {},
   "outputs": [],
   "source": []
  }
 ],
 "metadata": {
  "kernelspec": {
   "display_name": "Python 3 (ipykernel)",
   "language": "python",
   "name": "python3"
  },
  "language_info": {
   "codemirror_mode": {
    "name": "ipython",
    "version": 3
   },
   "file_extension": ".py",
   "mimetype": "text/x-python",
   "name": "python",
   "nbconvert_exporter": "python",
   "pygments_lexer": "ipython3",
   "version": "3.11.7"
  }
 },
 "nbformat": 4,
 "nbformat_minor": 5
}
